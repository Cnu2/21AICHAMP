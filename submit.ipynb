{
 "cells": [
  {
   "cell_type": "code",
   "execution_count": 59,
   "id": "4cb478f3-9c26-4ba7-861b-f58443f42aa1",
   "metadata": {},
   "outputs": [],
   "source": [
    "import os\n",
    "import numpy as np\n",
    "import pandas as pd\n",
    "\n",
    "import matplotlib.pyplot as plt\n",
    "from tqdm import tqdm\n",
    "\n",
    "import sys\n",
    "import warnings\n",
    "if not sys.warnoptions:\n",
    "    warnings.simplefilter(\"ignore\")"
   ]
  },
  {
   "cell_type": "code",
   "execution_count": 60,
   "id": "cdf257eb-11d2-4abd-a7e8-2077ed3ec21f",
   "metadata": {},
   "outputs": [
    {
     "name": "stdout",
     "output_type": "stream",
     "text": [
      "['cv_0.87839_efficientnet_b4', 'cv_0.89610_tf_efficientnetv2_b3', 'cv_0.89965_efficientnet_b3', 'cv_0.90000_resnext50_32x4d', 'cv_0.90000_vit_base_patch16_384', 'cv_0.90083_efficientv2_s', 'cv_0.90319_efficientnet_b1', 'cv_0.90673_tf_efficientnetv2_s_in21k', 'cv_0.90791_efficientnet_b2', 'cv_0.91000_resnext50_32x4d', 'cv_0.91027_efficientnet_b5_ap', 'cv_0.91263_efficientnetv2_s_in21ft1k', 'cv_0.91499_efficientnet_b6_ap', 'cv_0.92000_tf_efficientnetv2_b3', 'cv_0.92798_efficientnet_b7_ap', 'cv_0.93000_resnext50_32x4d', 'cv_0.93000_seresnext26t_32x4d', 'cv_0.93000_tf_efficientnetv2_b0', 'cv_0.93000_tf_efficientnetv2_b1', 'cv_0.93506_efficientnet_b8_ap', 'cv_0.93506_resnext50_32x4d', 'cv_0.93506_seresnext26d_32x4d', 'cv_0.93506_tf_efficientnetv2_m_in21k', 'cv_0.94000_seresnext26tn_32x4d', 'cv_0.94000_tf_efficientnetv2_b2', 'cv_0.94000_tf_efficientnetv2_s_in21ft1k', 'cv_0.95000_seresnext26d_32x4d', 'cv_0.95000_tf_efficientnetv2_s']\n",
      "28\n"
     ]
    }
   ],
   "source": [
    "MAIN_DIR = './STATUS_TTA_INFERENCE'\n",
    "folder_names = os.listdir(MAIN_DIR)\n",
    "test = pd.read_csv('C:/Users/Smartinside/Downloads/11.한국전력공사_데이터/test_output_sample.csv')\n",
    "print(folder_names)\n",
    "print(len(folder_names))"
   ]
  },
  {
   "cell_type": "code",
   "execution_count": 61,
   "id": "b29e2988-a08b-485e-a251-de060e426e38",
   "metadata": {},
   "outputs": [
    {
     "name": "stderr",
     "output_type": "stream",
     "text": [
      "100%|███████████████████████████████████████████████████████████████████████████████████| 2/2 [00:00<00:00, 668.41it/s]\n"
     ]
    }
   ],
   "source": [
    "pred = 0\n",
    "weight=1\n",
    "for i in tqdm(range(26,len(folder_names))):\n",
    "    model_path = os.path.join(MAIN_DIR, folder_names[i])\n",
    "    try:\n",
    "        csv_path = os.path.join(model_path, 'final_preds.csv')\n",
    "        #print(csv_path)\n",
    "        model_tta_preds = pd.read_csv(csv_path)\n",
    "        #display(model_tta_preds)\n",
    "        pred  = pred + model_tta_preds.values*weight\n",
    "        weight -= 0.8 \n",
    "        \n",
    "    except:\n",
    "        print('error')\n",
    "        print(csv_path)\n",
    "test['status'] = pred.argmax(1)"
   ]
  },
  {
   "cell_type": "code",
   "execution_count": 62,
   "id": "41e511c0-4291-4cef-b461-1812931e0ad1",
   "metadata": {},
   "outputs": [
    {
     "data": {
      "image/png": "[encoded data removed]",
      "text/plain": [
       "<Figure size 432x288 with 1 Axes>"
      ]
     },
     "metadata": {
      "needs_background": "light"
     },
     "output_type": "display_data"
    },
    {
     "name": "stdout",
     "output_type": "stream",
     "text": [
      "1    177\n",
      "0     45\n",
      "Name: status, dtype: int64\n"
     ]
    }
   ],
   "source": [
    "# Create df \n",
    "submission_status = test.drop([\"fault\", \"type\"], axis = 1)\n",
    "status_nums = test[\"status\"].value_counts()\n",
    "status_nums.plot.bar()\n",
    "plt.show()\n",
    "print(status_nums)"
   ]
  },
  {
   "cell_type": "code",
   "execution_count": 63,
   "id": "614e2bdc-a854-4799-ac21-5c27569c556e",
   "metadata": {},
   "outputs": [
    {
     "name": "stdout",
     "output_type": "stream",
     "text": [
      "['cv_0.89847_efficientnet_b4', 'cv_0.92000_resnext50_32x4d', 'cv_0.92001_resnext50_32x4d', 'cv_0.92326_efficientnet_b1', 'cv_0.93000_resnext50_32x4d', 'cv_0.93000_vit_base_patch16_224', 'cv_0.93001_resnext50_32x4d', 'cv_0.93152_efficientnet_b3', 'cv_0.93270_tf_efficientnet_b6_ns', 'cv_0.93743_efficientnet_b2', 'cv_0.94000_vit_base_patch16_224_in21k', 'cv_0.95000_tf_efficientnetv2_b0', 'cv_0.95000_tf_efficientnetv2_b1', 'cv_0.95000_tf_efficientnetv2_b2', 'cv_0.95000_tf_efficientnetv2_l_in21k', 'cv_0.95000_tf_efficientnetv2_s_in21k', 'cv_0.95000_vit_base_patch16_384', 'cv_0.95396_tf_efficientnet_b5_ns', 'cv_0.95632_tf_efficientnet_cc_b1_8e', 'cv_0.95868_seresnext26tn_32x4d', 'cv_0.95986_seresnext26d_32x4d', 'cv_0.96000_resnext50_32x4d', 'cv_0.96000_seresnext26d_32x4d', 'cv_0.96000_seresnext26tn_32x4d', 'cv_0.96000_seresnext26t_32x4d', 'cv_0.96000_tf_efficientnetv2_b3', 'cv_0.96000_tf_efficientnet_b3_ns', 'cv_0.96104_seresnext26t_32x4d', 'cv_0.96104_seresnext50_32x4d', 'cv_0.96458_seresnext50_32x4d', 'cv_0.96812_efficientnet_b5_ap', 'cv_0.96812_efficientnet_b6_ap', 'cv_0.96930_efficientnet_b8_ap', 'cv_0.97000_resnext50_32x4d', 'cv_0.97048_efficientnet_b7_ap', 'cv_0.97048_efficientnet_b8_ap', 'cv_0.97166_resnext_50_32x4d', 'cv_0.97403_efficientnet_b7_ap']\n",
      "38\n"
     ]
    }
   ],
   "source": [
    "MAIN_DIR = './TYPE_TTA_INFERENCE'\n",
    "folder_names = os.listdir(MAIN_DIR)\n",
    "test = pd.read_csv('C:/Users/Smartinside/Downloads/11.한국전력공사_데이터/test_output_sample.csv')\n",
    "print(folder_names)\n",
    "print(len(folder_names))"
   ]
  },
  {
   "cell_type": "code",
   "execution_count": 64,
   "id": "d4f74007-b707-492d-9c8d-7197b31a348b",
   "metadata": {},
   "outputs": [],
   "source": [
    "pred = 0\n",
    "weight=1\n",
    "for i in tqdm(range(10,len(folder_names))):\n",
    "    model_path = os.path.join(MAIN_DIR, folder_names[i])\n",
    "    try:\n",
    "        csv_path = os.path.join(model_path, 'final_preds.csv')\n",
    "        # print(csv_path)\n",
    "        model_tta_preds = pd.read_csv(csv_path)\n",
    "        pred  = pred + model_tta_preds.values*weight\n",
    "        weight += 0\n",
    "\n",
    "        \n",
    "    except:\n",
    "        print('error')\n",
    "        print(csv_path)\n",
    "\n",
    "test['type'] = pred.argmax(1)"
   ]
  },
  {
   "cell_type": "code",
   "execution_count": 65,
   "id": "f238b58e-4bda-4a09-a2a1-d35fb7eb6696",
   "metadata": {},
   "outputs": [
    {
     "data": {
      "image/png": "[encoded data removed]",
      "text/plain": [
       "<Figure size 432x288 with 1 Axes>"
      ]
     },
     "metadata": {
      "needs_background": "light"
     },
     "output_type": "display_data"
    },
    {
     "name": "stdout",
     "output_type": "stream",
     "text": [
      "0    98\n",
      "6    39\n",
      "7    26\n",
      "3    23\n",
      "1    18\n",
      "2    11\n",
      "4     5\n",
      "5     2\n",
      "Name: type, dtype: int64\n"
     ]
    }
   ],
   "source": [
    "\n",
    "# Create df \n",
    "submission_type = test.drop([\"fault\", \"status\"], axis = 1)\n",
    "type_nums = test[\"type\"].value_counts()\n",
    "type_nums.plot.bar()\n",
    "plt.show()\n",
    "print(type_nums)"
   ]
  },
  {
   "cell_type": "code",
   "execution_count": 66,
   "id": "71d691d1-3dde-42c5-a765-e8ae56faa4a7",
   "metadata": {},
   "outputs": [],
   "source": [
    "# submission_status = pd.read_csv('./best_status/submission_status.csv')"
   ]
  },
  {
   "cell_type": "code",
   "execution_count": null,
   "id": "47dbf781-e43c-42cc-9585-d6bed2dd1a03",
   "metadata": {},
   "outputs": [],
   "source": []
  },
  {
   "cell_type": "code",
   "execution_count": 67,
   "id": "29c16888-d2ab-408c-a02c-2eedaea01f22",
   "metadata": {},
   "outputs": [
    {
     "name": "stdout",
     "output_type": "stream",
     "text": [
      "['cv_0.71900_vit_base_patch16_224', 'cv_0.72373_vit_base_patch16_384', 'cv_0.73200_efficientnet_b5_ap', 'cv_0.73200_efficientnet_b7_ap', 'cv_0.73318_efficientnet_b3', 'cv_0.73672_tf_efficientnetv2_s', 'cv_0.73790_efficientnetv2_rw_s', 'cv_0.74026_efficientnetv2_s_in21ft1k', 'cv_0.74144_efficientnet_es_pruned', 'cv_0.74380_efficientnetv2_s', 'cv_0.75325_efficientnet_b4_ap', 'cv_0.75443_efficientnet_b8_ap', 'cv_0.75561_efficientnetv2_rw_m', 'cv_0.76505_tf_efficientnetv2_m', 'cv_0.76979_resnext50_32x4d', 'cv_0.77450_resnext50', 'cv_0.77900_tf_efficientnetv2_s_in21k', 'cv_0.78000_tf_efficientnetv2_b2', 'cv_0.78300_tf_efficientnetv2_s', 'cv_0.78800_tf_efficientnetv2_b3', 'cv_0.79339_resnext50_32x4d', 'cv_0.79575_resnext50d_32x4d', 'cv_0.79929_resnext50d_32x4d', 'cv_0.79929_resnext50_32x4d']\n",
      "24\n"
     ]
    }
   ],
   "source": [
    "MAIN_DIR = './FAULT_TTA_INFERENCE'\n",
    "folder_names = os.listdir(MAIN_DIR)\n",
    "test = pd.read_csv('C:/Users/Smartinside/Downloads/11.한국전력공사_데이터/test_output_sample.csv')\n",
    "print(folder_names)\n",
    "print(len(folder_names))"
   ]
  },
  {
   "cell_type": "code",
   "execution_count": 68,
   "id": "5e3e23e3-56f1-4028-9000-83407b191700",
   "metadata": {},
   "outputs": [
    {
     "name": "stderr",
     "output_type": "stream",
     "text": [
      "100%|█████████████████████████████████████████████████████████████████████████████████| 10/10 [00:00<00:00, 323.46it/s]\n"
     ]
    }
   ],
   "source": [
    "pred = 0\n",
    "weight=1\n",
    "for i in tqdm(range(len(folder_names) - 10,len(folder_names))):\n",
    "    model_path = os.path.join(MAIN_DIR, folder_names[i])\n",
    "    try:\n",
    "        csv_path = os.path.join(model_path, 'final_preds.csv')\n",
    "        # print(csv_path)\n",
    "        model_tta_preds = pd.read_csv(csv_path)\n",
    "        pred  = pred + model_tta_preds.values*weight\n",
    "        weight += 0.2\n",
    "        \n",
    "    except:\n",
    "        print('error')\n",
    "        print(csv_path)\n",
    "\n",
    "test['fault'] = pred.argmax(1)"
   ]
  },
  {
   "cell_type": "code",
   "execution_count": 69,
   "id": "c10b6b6b-0428-43a0-b516-d676c68e29e3",
   "metadata": {},
   "outputs": [
    {
     "data": {
      "image/png": "[encoded data removed]",
      "text/plain": [
       "<Figure size 432x288 with 1 Axes>"
      ]
     },
     "metadata": {
      "needs_background": "light"
     },
     "output_type": "display_data"
    },
    {
     "name": "stdout",
     "output_type": "stream",
     "text": [
      "1     74\n",
      "10    57\n",
      "0     56\n",
      "7     12\n",
      "2     10\n",
      "3      9\n",
      "12     2\n",
      "16     1\n",
      "14     1\n",
      "Name: fault, dtype: int64\n"
     ]
    }
   ],
   "source": [
    "submission_fault = test.drop([\"status\", \"type\"], axis = 1)\n",
    "\n",
    "fault_nums = test[\"fault\"].value_counts()\n",
    "fault_nums.plot.bar()\n",
    "plt.show()\n",
    "print(fault_nums)"
   ]
  },
  {
   "cell_type": "code",
   "execution_count": 70,
   "id": "3f02758e-77a5-49c0-a87b-d0dbff02ed7b",
   "metadata": {},
   "outputs": [
    {
     "data": {
      "text/html": [
       "<div>\n",
       "<style scoped>\n",
       "    .dataframe tbody tr th:only-of-type {\n",
       "        vertical-align: middle;\n",
       "    }\n",
       "\n",
       "    .dataframe tbody tr th {\n",
       "        vertical-align: top;\n",
       "    }\n",
       "\n",
       "    .dataframe thead th {\n",
       "        text-align: right;\n",
       "    }\n",
       "</style>\n",
       "<table border=\"1\" class=\"dataframe\">\n",
       "  <thead>\n",
       "    <tr style=\"text-align: right;\">\n",
       "      <th></th>\n",
       "      <th>file</th>\n",
       "      <th>status</th>\n",
       "      <th>type</th>\n",
       "      <th>fault</th>\n",
       "    </tr>\n",
       "  </thead>\n",
       "  <tbody>\n",
       "    <tr>\n",
       "      <th>0</th>\n",
       "      <td>1679R341_20200409_OH01_DG06_2_30.JPG</td>\n",
       "      <td>정상</td>\n",
       "      <td>COS</td>\n",
       "      <td>정상</td>\n",
       "    </tr>\n",
       "    <tr>\n",
       "      <th>1</th>\n",
       "      <td>1778D551_20200514_OH01_DG06_2_5.JPG</td>\n",
       "      <td>정상</td>\n",
       "      <td>COS</td>\n",
       "      <td>정상</td>\n",
       "    </tr>\n",
       "    <tr>\n",
       "      <th>2</th>\n",
       "      <td>1678H971_20200514_OH01_DG06_2_33.JPG</td>\n",
       "      <td>정상</td>\n",
       "      <td>COS</td>\n",
       "      <td>정상</td>\n",
       "    </tr>\n",
       "    <tr>\n",
       "      <th>3</th>\n",
       "      <td>1778D521_20200514_OH01_DG06_2_15.JPG</td>\n",
       "      <td>정상</td>\n",
       "      <td>COS</td>\n",
       "      <td>정상</td>\n",
       "    </tr>\n",
       "    <tr>\n",
       "      <th>4</th>\n",
       "      <td>1679R341_20200409_OH01_DG06_2_12.JPG</td>\n",
       "      <td>정상</td>\n",
       "      <td>COS</td>\n",
       "      <td>정상</td>\n",
       "    </tr>\n",
       "  </tbody>\n",
       "</table>\n",
       "</div>"
      ],
      "text/plain": [
       "                                   file status type fault\n",
       "0  1679R341_20200409_OH01_DG06_2_30.JPG     정상  COS    정상\n",
       "1   1778D551_20200514_OH01_DG06_2_5.JPG     정상  COS    정상\n",
       "2  1678H971_20200514_OH01_DG06_2_33.JPG     정상  COS    정상\n",
       "3  1778D521_20200514_OH01_DG06_2_15.JPG     정상  COS    정상\n",
       "4  1679R341_20200409_OH01_DG06_2_12.JPG     정상  COS    정상"
      ]
     },
     "metadata": {},
     "output_type": "display_data"
    }
   ],
   "source": [
    "TRAIN_IMAGE_DIR = \"C:/Users/Smartinside/Downloads/11.한국전력공사_데이터/train\"\n",
    "DIR = \"C:/Users/Smartinside/Downloads/11.한국전력공사_데이터\"\n",
    "\n",
    "train_df_path = os.path.join(DIR, \"train_output.csv\")\n",
    "train_df = pd.read_csv(train_df_path)\n",
    "display(train_df.head())\n",
    "\n",
    "# print(\"Train sample: {}\".format(len(train_df)))"
   ]
  },
  {
   "cell_type": "code",
   "execution_count": 71,
   "id": "d2b18900-8180-4d68-b7a3-9912c6382e45",
   "metadata": {},
   "outputs": [
    {
     "name": "stdout",
     "output_type": "stream",
     "text": [
      "['정상' '불량']\n",
      "['COS' 'GS' 'LA' 'LP자기재' 'LP폴리머' '전주' '현수애자자기' '현수애자폴리머']\n",
      "['정상' '부식' '석면노출' '크랙' '아크흔적' '파손' '휴즈링크 석면 노출' '박리' '휴즈링크 석면노출' '홀더불량'\n",
      " '설치불량' '균열' '침식' '탄화' '정상차측탈락' '설치불량 (정상)' '불순물' '탈락정상' '탈락' '커버없음'\n",
      " '박리 (정상)' '커버탈락' '스프리트핀유실']\n"
     ]
    }
   ],
   "source": [
    "status_label_kr = train_df[\"status\"].unique()\n",
    "print(status_label_kr)\n",
    "type_label_kr = train_df[\"type\"].unique()\n",
    "print(type_label_kr)\n",
    "fault_label_kr = train_df[\"fault\"].unique()\n",
    "print(fault_label_kr)"
   ]
  },
  {
   "cell_type": "code",
   "execution_count": 72,
   "id": "a3558741-3749-4fb6-bd68-2c5fc9cf8e3f",
   "metadata": {},
   "outputs": [],
   "source": [
    "def change_label_names(class_ids, label_kr):\n",
    "    convert_dict = {}\n",
    "    for num in range(len(class_ids)):\n",
    "        convert_dict[class_ids[num]] = label_kr[num]\n",
    "    return convert_dict"
   ]
  },
  {
   "cell_type": "code",
   "execution_count": 73,
   "id": "ec8b969b-46c6-4919-9537-bbda77989a78",
   "metadata": {},
   "outputs": [],
   "source": [
    "class_ids_status = [0,1]\n",
    "status_convert_dict = change_label_names(class_ids_status, status_label_kr)\n",
    "submission_status[\"status\"].replace(status_convert_dict, inplace=True)\n",
    "# submission_status"
   ]
  },
  {
   "cell_type": "code",
   "execution_count": 74,
   "id": "d304cfc4-560c-4c2f-ae9a-7044866441a9",
   "metadata": {},
   "outputs": [],
   "source": [
    "class_ids_type = []\n",
    "for i in range(len(type_label_kr)):\n",
    "    class_ids_type.append(i)\n",
    "    \n",
    "type_convert_dict = change_label_names(class_ids_type, type_label_kr)\n",
    "submission_type[\"type\"].replace(type_convert_dict, inplace=True)\n",
    "# submission_type"
   ]
  },
  {
   "cell_type": "code",
   "execution_count": 75,
   "id": "affa0e5f-93ac-4752-adbb-1069d83f6354",
   "metadata": {},
   "outputs": [],
   "source": [
    "class_ids_fault = []\n",
    "for i in range(len(fault_label_kr)):\n",
    "    class_ids_fault.append(i)"
   ]
  },
  {
   "cell_type": "code",
   "execution_count": 76,
   "id": "f08045ee-22a5-47ed-b491-3abf069ef6d8",
   "metadata": {},
   "outputs": [],
   "source": [
    "fault_convert_dict = change_label_names(class_ids_fault, fault_label_kr)\n",
    "submission_fault[\"fault\"].replace(fault_convert_dict, inplace=True)\n",
    "# submission_fault"
   ]
  },
  {
   "cell_type": "code",
   "execution_count": 77,
   "id": "7279dedc-7532-447d-b23f-c72bfb9e404a",
   "metadata": {},
   "outputs": [],
   "source": [
    "submission_final = pd.read_csv('C:/Users/Smartinside/Downloads/11.한국전력공사_데이터/test_output_sample.csv')"
   ]
  },
  {
   "cell_type": "code",
   "execution_count": 78,
   "id": "c0a4b57c-3a55-4c75-81dc-3eb180eb5541",
   "metadata": {},
   "outputs": [],
   "source": [
    "submission_final['status'] = submission_status['status']\n",
    "submission_final['type'] = submission_type['type']\n",
    "submission_final['fault'] = submission_fault['fault']"
   ]
  },
  {
   "cell_type": "code",
   "execution_count": 79,
   "id": "31e87354-0078-4538-a281-b5cbe6567704",
   "metadata": {},
   "outputs": [
    {
     "data": {
      "text/html": [
       "<div>\n",
       "<style scoped>\n",
       "    .dataframe tbody tr th:only-of-type {\n",
       "        vertical-align: middle;\n",
       "    }\n",
       "\n",
       "    .dataframe tbody tr th {\n",
       "        vertical-align: top;\n",
       "    }\n",
       "\n",
       "    .dataframe thead th {\n",
       "        text-align: right;\n",
       "    }\n",
       "</style>\n",
       "<table border=\"1\" class=\"dataframe\">\n",
       "  <thead>\n",
       "    <tr style=\"text-align: right;\">\n",
       "      <th></th>\n",
       "      <th>file</th>\n",
       "      <th>status</th>\n",
       "      <th>type</th>\n",
       "      <th>fault</th>\n",
       "    </tr>\n",
       "  </thead>\n",
       "  <tbody>\n",
       "    <tr>\n",
       "      <th>0</th>\n",
       "      <td>0.jpg</td>\n",
       "      <td>정상</td>\n",
       "      <td>현수애자폴리머</td>\n",
       "      <td>정상</td>\n",
       "    </tr>\n",
       "    <tr>\n",
       "      <th>1</th>\n",
       "      <td>1.jpg</td>\n",
       "      <td>불량</td>\n",
       "      <td>현수애자폴리머</td>\n",
       "      <td>설치불량</td>\n",
       "    </tr>\n",
       "    <tr>\n",
       "      <th>2</th>\n",
       "      <td>2.jpg</td>\n",
       "      <td>정상</td>\n",
       "      <td>COS</td>\n",
       "      <td>정상</td>\n",
       "    </tr>\n",
       "    <tr>\n",
       "      <th>3</th>\n",
       "      <td>3.jpg</td>\n",
       "      <td>불량</td>\n",
       "      <td>LP자기재</td>\n",
       "      <td>정상</td>\n",
       "    </tr>\n",
       "    <tr>\n",
       "      <th>4</th>\n",
       "      <td>4.jpg</td>\n",
       "      <td>불량</td>\n",
       "      <td>COS</td>\n",
       "      <td>석면노출</td>\n",
       "    </tr>\n",
       "    <tr>\n",
       "      <th>...</th>\n",
       "      <td>...</td>\n",
       "      <td>...</td>\n",
       "      <td>...</td>\n",
       "      <td>...</td>\n",
       "    </tr>\n",
       "    <tr>\n",
       "      <th>217</th>\n",
       "      <td>217.jpg</td>\n",
       "      <td>불량</td>\n",
       "      <td>현수애자폴리머</td>\n",
       "      <td>설치불량</td>\n",
       "    </tr>\n",
       "    <tr>\n",
       "      <th>218</th>\n",
       "      <td>218.jpg</td>\n",
       "      <td>불량</td>\n",
       "      <td>LP자기재</td>\n",
       "      <td>박리</td>\n",
       "    </tr>\n",
       "    <tr>\n",
       "      <th>219</th>\n",
       "      <td>219.jpg</td>\n",
       "      <td>불량</td>\n",
       "      <td>LA</td>\n",
       "      <td>정상차측탈락</td>\n",
       "    </tr>\n",
       "    <tr>\n",
       "      <th>220</th>\n",
       "      <td>220.jpg</td>\n",
       "      <td>불량</td>\n",
       "      <td>COS</td>\n",
       "      <td>부식</td>\n",
       "    </tr>\n",
       "    <tr>\n",
       "      <th>221</th>\n",
       "      <td>221.jpg</td>\n",
       "      <td>불량</td>\n",
       "      <td>현수애자자기</td>\n",
       "      <td>설치불량</td>\n",
       "    </tr>\n",
       "  </tbody>\n",
       "</table>\n",
       "<p>222 rows × 4 columns</p>\n",
       "</div>"
      ],
      "text/plain": [
       "        file status     type   fault\n",
       "0      0.jpg     정상  현수애자폴리머      정상\n",
       "1      1.jpg     불량  현수애자폴리머    설치불량\n",
       "2      2.jpg     정상      COS      정상\n",
       "3      3.jpg     불량    LP자기재      정상\n",
       "4      4.jpg     불량      COS    석면노출\n",
       "..       ...    ...      ...     ...\n",
       "217  217.jpg     불량  현수애자폴리머    설치불량\n",
       "218  218.jpg     불량    LP자기재      박리\n",
       "219  219.jpg     불량       LA  정상차측탈락\n",
       "220  220.jpg     불량      COS      부식\n",
       "221  221.jpg     불량   현수애자자기    설치불량\n",
       "\n",
       "[222 rows x 4 columns]"
      ]
     },
     "execution_count": 79,
     "metadata": {},
     "output_type": "execute_result"
    }
   ],
   "source": [
    "submission_final"
   ]
  },
  {
   "cell_type": "code",
   "execution_count": 80,
   "id": "806d4c31-3a00-442f-94cd-548ff59a016c",
   "metadata": {},
   "outputs": [],
   "source": [
    "submission_final.to_csv('./temp/test_output_sample.csv', index=False)"
   ]
  },
  {
   "cell_type": "code",
   "execution_count": 81,
   "id": "f58c7a99-d5b0-4d9a-9bec-3c78e2b9f5ea",
   "metadata": {},
   "outputs": [],
   "source": [
    "updated_submission = submission_final"
   ]
  },
  {
   "cell_type": "code",
   "execution_count": 82,
   "id": "2c55562a-d987-4195-963f-9a26f5a15f67",
   "metadata": {},
   "outputs": [
    {
     "name": "stdout",
     "output_type": "stream",
     "text": [
      "3\n",
      "11\n",
      "24\n",
      "52\n",
      "58\n",
      "88\n",
      "fault-침식 to 아크흔적\n",
      "91\n",
      "98\n",
      "108\n",
      "110\n",
      "fault-침식 to 아크흔적\n",
      "118\n",
      "164\n",
      "184\n"
     ]
    }
   ],
   "source": [
    "changeable_row_idxs = []\n",
    "for row_idx in range(len(updated_submission)):\n",
    "    if updated_submission.iloc[row_idx]['fault'] == '정상' and updated_submission.iloc[row_idx]['status'] != '정상':\n",
    "        # submission_final.iloc[row_idx]['status'] = '정상'\n",
    "        print(row_idx)\n",
    "        changeable_row_idxs.append(row_idx)\n",
    "        updated_submission.loc[row_idx, 'status'] = '정상'\n",
    "    elif updated_submission.iloc[row_idx]['fault'] == '침식':\n",
    "        print(\"fault-침식 to 아크흔적\")\n",
    "        print(row_idx)\n",
    "        changeable_row_idxs.append(row_idx)\n",
    "        updated_submission.loc[row_idx]['fault'] = '아크흔적'"
   ]
  },
  {
   "cell_type": "code",
   "execution_count": 83,
   "id": "1535af76-782d-4121-a204-04754febcb5e",
   "metadata": {},
   "outputs": [],
   "source": [
    "updated_submission.to_csv('./temp/updated_test_output_sample.csv', index=False)"
   ]
  },
  {
   "cell_type": "markdown",
   "id": "dfbeb98a-ed44-4c2f-80f1-2478645efcd5",
   "metadata": {},
   "source": [
    "# DATA ANALYSIS"
   ]
  },
  {
   "cell_type": "code",
   "execution_count": 93,
   "id": "0eac838c-0777-4540-89b3-8bdeefc20f61",
   "metadata": {},
   "outputs": [],
   "source": [
    "for index in range(len(updated_submission)):\n",
    "    status = updated_submission['status'][index]\n",
    "    fault = updated_submission['fault'][index]\n",
    "    if status == '정상' and fault != '정상':\n",
    "        print('status는 정상 fault는 불량일 경우')\n",
    "        display(updated_submission[index:index+1])\n",
    "    if status != '정상' and fault == '정상':\n",
    "        print('status는 불량 fault는 정상일 경우')\n",
    "        display(updated_submission[index:index+1])"
   ]
  },
  {
   "cell_type": "code",
   "execution_count": 103,
   "id": "0bffcb07-6597-4923-a4b9-b9735c161993",
   "metadata": {},
   "outputs": [
    {
     "data": {
      "text/plain": [
       "0    정상\n",
       "1    불량\n",
       "2    정상\n",
       "3    정상\n",
       "4    불량\n",
       "Name: status, dtype: object"
      ]
     },
     "metadata": {},
     "output_type": "display_data"
    }
   ],
   "source": [
    "display(updated_submission['status'].head())"
   ]
  },
  {
   "cell_type": "code",
   "execution_count": null,
   "id": "d35a3a8e-dae0-44f3-bf86-8dd637bd9bf0",
   "metadata": {},
   "outputs": [],
   "source": []
  }
 ],
 "metadata": {
  "kernelspec": {
   "display_name": "Python 3 (ipykernel)",
   "language": "python",
   "name": "python3"
  },
  "language_info": {
   "codemirror_mode": {
    "name": "ipython",
    "version": 3
   },
   "file_extension": ".py",
   "mimetype": "text/x-python",
   "name": "python",
   "nbconvert_exporter": "python",
   "pygments_lexer": "ipython3",
   "version": "3.8.11"
  }
 },
 "nbformat": 4,
 "nbformat_minor": 5
}
